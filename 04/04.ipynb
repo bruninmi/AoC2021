{
 "cells": [
  {
   "cell_type": "code",
   "execution_count": 1,
   "metadata": {},
   "outputs": [],
   "source": [
    "# Imports & read file\n",
    "import time\n",
    "\n",
    "def read_file(filename):\n",
    "    with open(filename) as infile:\n",
    "        elems = infile.read().strip().split('\\n\\n')\n",
    "        numbers = list(map(int, elems[0].split(',')))\n",
    "        boards = [[i for row in elem.split('\\n') for i in map(int, row.split())] for elem in elems[1:]]\n",
    "        return numbers, boards\n",
    "    return None"
   ]
  },
  {
   "cell_type": "code",
   "execution_count": 2,
   "metadata": {},
   "outputs": [],
   "source": [
    "# Part One\n",
    "def score(board, numbers):\n",
    "    moves = 0\n",
    "    total = sum(board)\n",
    "    rows = [0] * 5\n",
    "    cols = [0] * 5\n",
    "    for number in numbers:\n",
    "        moves += 1\n",
    "        if number in board:\n",
    "            index = board.index(number)\n",
    "            total -= number\n",
    "            rows[index // 5] += 1\n",
    "            if rows[index // 5] == 5:\n",
    "                return moves, total * number\n",
    "            cols[index % 5] += 1\n",
    "            if cols[index % 5] == 5:\n",
    "                return moves, total * number\n",
    "    return False\n",
    "    \n",
    "def winning_score(numbers, boards):\n",
    "    moves = len(numbers)\n",
    "    winning = 0\n",
    "    for board in boards:\n",
    "        s = score(board, numbers[:moves])\n",
    "        if s:\n",
    "            moves, winning = s\n",
    "    return winning"
   ]
  },
  {
   "cell_type": "code",
   "execution_count": 3,
   "metadata": {},
   "outputs": [
    {
     "name": "stdout",
     "output_type": "stream",
     "text": [
      "True\n"
     ]
    },
    {
     "data": {
      "text/plain": [
       "0.0"
      ]
     },
     "execution_count": 3,
     "metadata": {},
     "output_type": "execute_result"
    }
   ],
   "source": [
    "# Test Part One\n",
    "start = time.time()\n",
    "print(winning_score(*read_file(\"test.txt\")) == 4512)\n",
    "time.time() - start"
   ]
  },
  {
   "cell_type": "code",
   "execution_count": 4,
   "metadata": {},
   "outputs": [
    {
     "name": "stdout",
     "output_type": "stream",
     "text": [
      "10374\n"
     ]
    },
    {
     "data": {
      "text/plain": [
       "0.0"
      ]
     },
     "execution_count": 4,
     "metadata": {},
     "output_type": "execute_result"
    }
   ],
   "source": [
    "# Solve Part One\n",
    "start = time.time()\n",
    "print(winning_score(*read_file(\"input.txt\")))\n",
    "time.time() - start"
   ]
  }
 ],
 "metadata": {
  "kernelspec": {
   "display_name": "Python 3",
   "language": "python",
   "name": "python3"
  },
  "language_info": {
   "codemirror_mode": {
    "name": "ipython",
    "version": 3
   },
   "file_extension": ".py",
   "mimetype": "text/x-python",
   "name": "python",
   "nbconvert_exporter": "python",
   "pygments_lexer": "ipython3",
   "version": "3.8.8"
  }
 },
 "nbformat": 4,
 "nbformat_minor": 2
}
