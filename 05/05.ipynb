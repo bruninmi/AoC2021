{
 "cells": [
  {
   "cell_type": "code",
   "execution_count": 1,
   "metadata": {},
   "outputs": [],
   "source": [
    "# Imports & read file\n",
    "import time\n",
    "\n",
    "def read_file(filename):\n",
    "    with open(filename) as infile:\n",
    "        return [tuple(tuple(map(int, coord.split(','))) for coord in line.strip().split(' -> ')) for line in infile.readlines()]\n",
    "    return None"
   ]
  },
  {
   "cell_type": "code",
   "execution_count": 2,
   "metadata": {},
   "outputs": [],
   "source": [
    "# Part One\n",
    "def inclusive_range(start, stop):\n",
    "    delta = stop - start\n",
    "    if delta:\n",
    "        delta //= abs(delta)\n",
    "    i = start\n",
    "    while i != stop:\n",
    "        yield i\n",
    "        i += delta\n",
    "    yield i\n",
    "\n",
    "def get_chart(segments):\n",
    "    vents = {}\n",
    "    for ((x1,y1), (x2,y2)) in segments:\n",
    "        if y1 == y2:\n",
    "            for x in inclusive_range(x1, x2):\n",
    "                vents[(x,y1)] = vents.get((x,y1), 0) + 1\n",
    "        elif x1 == x2:\n",
    "            for y in inclusive_range(y1, y2):\n",
    "                vents[(x1,y)] = vents.get((x1,y), 0) + 1\n",
    "        else:\n",
    "            for x, y in zip(inclusive_range(x1, x2), inclusive_range(y1, y2)):\n",
    "                vents[(x,y)] = vents.get((x,y), 0) + 1\n",
    "    return vents\n",
    "\n",
    "def is_cardinal(c):\n",
    "    return c[0][0] == c[1][0] or c[0][1] == c[1][1]\n",
    "\n",
    "def count_dangerous_areas(segments):\n",
    "    return sum(1 for _,i in get_chart(segments).items() if i >= 2)"
   ]
  },
  {
   "cell_type": "code",
   "execution_count": 3,
   "metadata": {},
   "outputs": [
    {
     "name": "stdout",
     "output_type": "stream",
     "text": [
      "True\n"
     ]
    },
    {
     "data": {
      "text/plain": [
       "0.0"
      ]
     },
     "execution_count": 3,
     "metadata": {},
     "output_type": "execute_result"
    }
   ],
   "source": [
    "# Test Part One\n",
    "start = time.time()\n",
    "print(count_dangerous_areas(filter(is_cardinal, read_file(\"test.txt\"))) == 5)\n",
    "time.time() - start"
   ]
  },
  {
   "cell_type": "code",
   "execution_count": 4,
   "metadata": {},
   "outputs": [
    {
     "name": "stdout",
     "output_type": "stream",
     "text": [
      "5632\n"
     ]
    },
    {
     "data": {
      "text/plain": [
       "0.06249499320983887"
      ]
     },
     "execution_count": 4,
     "metadata": {},
     "output_type": "execute_result"
    }
   ],
   "source": [
    "# Solve Part One\n",
    "start = time.time()\n",
    "print(count_dangerous_areas(filter(is_cardinal, read_file(\"input.txt\"))))\n",
    "time.time() - start"
   ]
  },
  {
   "cell_type": "code",
   "execution_count": 5,
   "metadata": {},
   "outputs": [],
   "source": [
    "# Part Two"
   ]
  },
  {
   "cell_type": "code",
   "execution_count": 6,
   "metadata": {},
   "outputs": [
    {
     "name": "stdout",
     "output_type": "stream",
     "text": [
      "True\n"
     ]
    },
    {
     "data": {
      "text/plain": [
       "0.0"
      ]
     },
     "execution_count": 6,
     "metadata": {},
     "output_type": "execute_result"
    }
   ],
   "source": [
    "# Test Part Two\n",
    "start = time.time()\n",
    "print(count_dangerous_areas(read_file(\"test.txt\")) == 12)\n",
    "time.time() - start"
   ]
  },
  {
   "cell_type": "code",
   "execution_count": 7,
   "metadata": {},
   "outputs": [
    {
     "name": "stdout",
     "output_type": "stream",
     "text": [
      "22213\n"
     ]
    },
    {
     "data": {
      "text/plain": [
       "0.11586523056030273"
      ]
     },
     "execution_count": 7,
     "metadata": {},
     "output_type": "execute_result"
    }
   ],
   "source": [
    "# Solve Part Two\n",
    "start = time.time()\n",
    "print(count_dangerous_areas(read_file(\"input.txt\")))\n",
    "time.time() - start"
   ]
  }
 ],
 "metadata": {
  "kernelspec": {
   "display_name": "Python 3",
   "language": "python",
   "name": "python3"
  },
  "language_info": {
   "codemirror_mode": {
    "name": "ipython",
    "version": 3
   },
   "file_extension": ".py",
   "mimetype": "text/x-python",
   "name": "python",
   "nbconvert_exporter": "python",
   "pygments_lexer": "ipython3",
   "version": "3.8.8"
  }
 },
 "nbformat": 4,
 "nbformat_minor": 2
}
