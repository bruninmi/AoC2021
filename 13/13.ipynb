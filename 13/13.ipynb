{
 "cells": [
  {
   "cell_type": "code",
   "execution_count": 1,
   "metadata": {},
   "outputs": [],
   "source": [
    "# Imports & read file\n",
    "import time\n",
    "\n",
    "def read_file(filename):\n",
    "    with open(filename) as infile:\n",
    "        problem = [line.strip() for line in infile.readlines()]\n",
    "        coords = {tuple(map(int, line.split(','))) for line in problem[:problem.index('')]}\n",
    "        folds = [(line[11:].split('=')[0], int(line[11:].split('=')[1])) for line in problem[problem.index('')+1:]]\n",
    "        return coords, folds\n",
    "    return None"
   ]
  },
  {
   "cell_type": "code",
   "execution_count": 2,
   "metadata": {
    "scrolled": false
   },
   "outputs": [],
   "source": [
    "# Part One\n",
    "def fold(coords, axis, value):\n",
    "    xax = axis == 'x'\n",
    "    return {(value-abs(value-x),y) if xax else (x,value-abs(value-y)) for (x,y) in coords}\n",
    "\n",
    "def solve_part_one(file):\n",
    "    coords, folds = read_file(file)\n",
    "    return len(fold(coords, *folds[0]))"
   ]
  },
  {
   "cell_type": "code",
   "execution_count": 3,
   "metadata": {},
   "outputs": [
    {
     "name": "stdout",
     "output_type": "stream",
     "text": [
      "True\n"
     ]
    },
    {
     "data": {
      "text/plain": [
       "0.0"
      ]
     },
     "execution_count": 3,
     "metadata": {},
     "output_type": "execute_result"
    }
   ],
   "source": [
    "# Test Part One\n",
    "start = time.time()\n",
    "print(solve_part_one(\"test.txt\") == 17)\n",
    "time.time() - start"
   ]
  },
  {
   "cell_type": "code",
   "execution_count": 4,
   "metadata": {},
   "outputs": [
    {
     "name": "stdout",
     "output_type": "stream",
     "text": [
      "666\n"
     ]
    },
    {
     "data": {
      "text/plain": [
       "0.0"
      ]
     },
     "execution_count": 4,
     "metadata": {},
     "output_type": "execute_result"
    }
   ],
   "source": [
    "# Solve Part One\n",
    "start = time.time()\n",
    "print(solve_part_one(\"input.txt\"))\n",
    "time.time() - start"
   ]
  },
  {
   "cell_type": "code",
   "execution_count": 5,
   "metadata": {},
   "outputs": [],
   "source": [
    "# Part Two\n",
    "def print_coords(coords):\n",
    "    x_min, y_min = (map(min, zip(*coords)))\n",
    "    x_max, y_max = (map(max, zip(*coords)))\n",
    "    for y in range(y_min, y_max+1):\n",
    "        print(''.join('#' if (x,y) in coords else ' ' for x in range(x_min, x_max+1)))\n",
    "\n",
    "def solve_part_two(file):\n",
    "    coords, folds = read_file(file)\n",
    "    for f in folds:\n",
    "        coords = fold(coords, *f)\n",
    "    return coords"
   ]
  },
  {
   "cell_type": "code",
   "execution_count": 6,
   "metadata": {},
   "outputs": [
    {
     "name": "stdout",
     "output_type": "stream",
     "text": [
      "#####\n",
      "#   #\n",
      "#   #\n",
      "#   #\n",
      "#####\n"
     ]
    },
    {
     "data": {
      "text/plain": [
       "0.0"
      ]
     },
     "execution_count": 6,
     "metadata": {},
     "output_type": "execute_result"
    }
   ],
   "source": [
    "# Test Part Two\n",
    "start = time.time()\n",
    "print_coords(solve_part_two(\"test.txt\"))\n",
    "time.time() - start"
   ]
  },
  {
   "cell_type": "code",
   "execution_count": 7,
   "metadata": {
    "scrolled": true
   },
   "outputs": [
    {
     "name": "stdout",
     "output_type": "stream",
     "text": [
      " ##    ## #  #  ##  #### #  # #  # #  #\n",
      "#  #    # #  # #  #    # #  # # #  #  #\n",
      "#       # #### #  #   #  #### ##   #  #\n",
      "#       # #  # ####  #   #  # # #  #  #\n",
      "#  # #  # #  # #  # #    #  # # #  #  #\n",
      " ##   ##  #  # #  # #### #  # #  #  ## \n"
     ]
    },
    {
     "data": {
      "text/plain": [
       "0.0"
      ]
     },
     "execution_count": 7,
     "metadata": {},
     "output_type": "execute_result"
    }
   ],
   "source": [
    "# Solve Part Two\n",
    "start = time.time()\n",
    "print_coords(solve_part_two(\"input.txt\"))\n",
    "time.time() - start"
   ]
  }
 ],
 "metadata": {
  "kernelspec": {
   "display_name": "Python 3",
   "language": "python",
   "name": "python3"
  },
  "language_info": {
   "codemirror_mode": {
    "name": "ipython",
    "version": 3
   },
   "file_extension": ".py",
   "mimetype": "text/x-python",
   "name": "python",
   "nbconvert_exporter": "python",
   "pygments_lexer": "ipython3",
   "version": "3.8.8"
  }
 },
 "nbformat": 4,
 "nbformat_minor": 2
}
