{
 "cells": [
  {
   "cell_type": "code",
   "execution_count": 1,
   "metadata": {},
   "outputs": [],
   "source": [
    "# Imports & read file\n",
    "import time\n",
    "import heapq\n",
    "import numpy as np\n",
    "import math\n",
    "\n",
    "def read_file(filename):\n",
    "    with open(filename) as infile:\n",
    "        inp = infile.readline().strip()\n",
    "        return f\"{int(inp, 16):0>{len(inp)*4}b}\"\n",
    "    return None"
   ]
  },
  {
   "cell_type": "code",
   "execution_count": 2,
   "metadata": {
    "scrolled": false
   },
   "outputs": [],
   "source": [
    "# Part One\n",
    "class BitsReader:\n",
    "    def __init__(self, bits):\n",
    "        self.bits = bits\n",
    "        self.current = 0\n",
    "    \n",
    "    def read_next_n(self, n):\n",
    "        self.current += n\n",
    "        return self.bits[self.current - n:self.current]\n",
    "\n",
    "def sum_versions(br):\n",
    "    bits_read = br.current\n",
    "    version = int(br.read_next_n(3), 2)\n",
    "    version_sum = version\n",
    "    typeid = int(br.read_next_n(3), 2)\n",
    "    if typeid == 4:\n",
    "        #literal value\n",
    "        lit = ''\n",
    "        while True:\n",
    "            group = br.read_next_n(5)\n",
    "            lit += group[1:]\n",
    "            if group[0] == '0':\n",
    "                break\n",
    "        lit = int(lit, 2)\n",
    "    else:\n",
    "        #operator\n",
    "        if br.read_next_n(1) == '0':\n",
    "            #length in bits\n",
    "            length = int(br.read_next_n(15), 2)\n",
    "            start = br.current\n",
    "            while br.current - start < length:\n",
    "                version_sum += sum_versions(br)\n",
    "        else:\n",
    "            #length in packets\n",
    "            length = int(br.read_next_n(11), 2)\n",
    "            for _ in range(length):\n",
    "                version_sum += sum_versions(br)\n",
    "    return version_sum\n",
    "\n",
    "def solve_part_one(file):\n",
    "    return sum_versions(BitsReader(read_file(file)))"
   ]
  },
  {
   "cell_type": "code",
   "execution_count": 3,
   "metadata": {},
   "outputs": [
    {
     "name": "stdout",
     "output_type": "stream",
     "text": [
      "True\n",
      "True\n",
      "True\n",
      "True\n"
     ]
    },
    {
     "data": {
      "text/plain": [
       "0.0"
      ]
     },
     "execution_count": 3,
     "metadata": {},
     "output_type": "execute_result"
    }
   ],
   "source": [
    "# Test Part One\n",
    "start = time.time()\n",
    "for f, s in enumerate([16, 12, 23, 31], 1):\n",
    "    print(solve_part_one(f\"test{f:02}.txt\") == s)\n",
    "time.time() - start"
   ]
  },
  {
   "cell_type": "code",
   "execution_count": 4,
   "metadata": {},
   "outputs": [
    {
     "name": "stdout",
     "output_type": "stream",
     "text": [
      "993\n"
     ]
    },
    {
     "data": {
      "text/plain": [
       "0.0"
      ]
     },
     "execution_count": 4,
     "metadata": {},
     "output_type": "execute_result"
    }
   ],
   "source": [
    "# Solve Part One\n",
    "start = time.time()\n",
    "print(solve_part_one(\"input.txt\"))\n",
    "time.time() - start"
   ]
  },
  {
   "cell_type": "code",
   "execution_count": 5,
   "metadata": {},
   "outputs": [],
   "source": [
    "# Part Two\n",
    "def calculate_value(br):\n",
    "    bits_read = br.current\n",
    "    version = int(br.read_next_n(3), 2)\n",
    "    typeid = int(br.read_next_n(3), 2)\n",
    "    if typeid == 4:\n",
    "        #literal value\n",
    "        lit = ''\n",
    "        while True:\n",
    "            group = br.read_next_n(5)\n",
    "            lit += group[1:]\n",
    "            if group[0] == '0':\n",
    "                break\n",
    "        return int(lit, 2)\n",
    "    else:\n",
    "        #operator\n",
    "        values = []\n",
    "        if br.read_next_n(1) == '0':\n",
    "            #length in bits\n",
    "            length = int(br.read_next_n(15), 2)\n",
    "            start = br.current\n",
    "            while br.current - start < length:\n",
    "                values.append(calculate_value(br))\n",
    "        else:\n",
    "            #length in packets\n",
    "            length = int(br.read_next_n(11), 2)\n",
    "            for _ in range(length):\n",
    "                values.append(calculate_value(br))\n",
    "        if typeid == 0:\n",
    "            return sum(values)\n",
    "        if typeid == 1:\n",
    "            return math.prod(values)\n",
    "        if typeid == 2:\n",
    "            return min(values)\n",
    "        if typeid == 3:\n",
    "            return max(values)\n",
    "        if typeid == 5:\n",
    "            return 1 if values[0] > values[1] else 0\n",
    "        if typeid == 6:\n",
    "            return 1 if values[0] < values[1] else 0\n",
    "        if typeid == 7:\n",
    "            return 1 if values[0] == values[1] else 0\n",
    "    return None\n",
    "\n",
    "def solve_part_two(file):\n",
    "    return calculate_value(BitsReader(read_file(file)))"
   ]
  },
  {
   "cell_type": "code",
   "execution_count": 6,
   "metadata": {},
   "outputs": [
    {
     "name": "stdout",
     "output_type": "stream",
     "text": [
      "True\n",
      "True\n",
      "True\n",
      "True\n",
      "True\n",
      "True\n",
      "True\n",
      "True\n"
     ]
    },
    {
     "data": {
      "text/plain": [
       "0.0"
      ]
     },
     "execution_count": 6,
     "metadata": {},
     "output_type": "execute_result"
    }
   ],
   "source": [
    "# Test Part Two\n",
    "start = time.time()\n",
    "for f, s in enumerate([3, 54, 7, 9, 1, 0, 0, 1], 5):\n",
    "    print(solve_part_two(f\"test{f:02}.txt\") == s)\n",
    "time.time() - start"
   ]
  },
  {
   "cell_type": "code",
   "execution_count": 7,
   "metadata": {
    "scrolled": true
   },
   "outputs": [
    {
     "name": "stdout",
     "output_type": "stream",
     "text": [
      "144595909277\n"
     ]
    },
    {
     "data": {
      "text/plain": [
       "0.0"
      ]
     },
     "execution_count": 7,
     "metadata": {},
     "output_type": "execute_result"
    }
   ],
   "source": [
    "# Solve Part Two\n",
    "start = time.time()\n",
    "print(solve_part_two(\"input.txt\"))\n",
    "time.time() - start"
   ]
  }
 ],
 "metadata": {
  "kernelspec": {
   "display_name": "Python 3",
   "language": "python",
   "name": "python3"
  },
  "language_info": {
   "codemirror_mode": {
    "name": "ipython",
    "version": 3
   },
   "file_extension": ".py",
   "mimetype": "text/x-python",
   "name": "python",
   "nbconvert_exporter": "python",
   "pygments_lexer": "ipython3",
   "version": "3.8.8"
  }
 },
 "nbformat": 4,
 "nbformat_minor": 2
}
