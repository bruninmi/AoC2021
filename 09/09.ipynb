{
 "cells": [
  {
   "cell_type": "code",
   "execution_count": 1,
   "metadata": {},
   "outputs": [],
   "source": [
    "# Imports & read file\n",
    "import time\n",
    "\n",
    "def read_file(filename):\n",
    "    with open(filename) as infile:\n",
    "        return {(x, y): int(i) for y, line in enumerate(infile.readlines()) for x, i in enumerate(line.strip())}\n",
    "    return None"
   ]
  },
  {
   "cell_type": "code",
   "execution_count": 2,
   "metadata": {},
   "outputs": [],
   "source": [
    "# Part One\n",
    "def sum_risk_levels(heightmap):\n",
    "    risk = 0\n",
    "    while heightmap:\n",
    "        lowest = min(heightmap, key=heightmap.get)\n",
    "        risk += 1 + heightmap[lowest]\n",
    "        queue = {lowest}\n",
    "        while queue:\n",
    "            x, y = queue.pop()\n",
    "            height = heightmap.pop((x,y))\n",
    "            for dx, dy in [(0, -1), (1, 0), (0, 1), (-1, 0)]:\n",
    "                if (x+dx, y+dy) in heightmap and heightmap[(x+dx, y+dy)] >= height:\n",
    "                    queue.add((x+dx, y+dy))\n",
    "    return risk"
   ]
  },
  {
   "cell_type": "code",
   "execution_count": 3,
   "metadata": {},
   "outputs": [
    {
     "name": "stdout",
     "output_type": "stream",
     "text": [
      "True\n"
     ]
    },
    {
     "data": {
      "text/plain": [
       "0.0"
      ]
     },
     "execution_count": 3,
     "metadata": {},
     "output_type": "execute_result"
    }
   ],
   "source": [
    "# Test Part One\n",
    "start = time.time()\n",
    "print(sum_risk_levels(read_file(\"test.txt\")) == 15)\n",
    "time.time() - start"
   ]
  },
  {
   "cell_type": "code",
   "execution_count": 4,
   "metadata": {},
   "outputs": [
    {
     "name": "stdout",
     "output_type": "stream",
     "text": [
      "439\n"
     ]
    },
    {
     "data": {
      "text/plain": [
       "0.06600618362426758"
      ]
     },
     "execution_count": 4,
     "metadata": {},
     "output_type": "execute_result"
    }
   ],
   "source": [
    "# Solve Part One\n",
    "start = time.time()\n",
    "print(sum_risk_levels(read_file(\"input.txt\")))\n",
    "time.time() - start"
   ]
  }
 ],
 "metadata": {
  "kernelspec": {
   "display_name": "Python 3",
   "language": "python",
   "name": "python3"
  },
  "language_info": {
   "codemirror_mode": {
    "name": "ipython",
    "version": 3
   },
   "file_extension": ".py",
   "mimetype": "text/x-python",
   "name": "python",
   "nbconvert_exporter": "python",
   "pygments_lexer": "ipython3",
   "version": "3.8.8"
  }
 },
 "nbformat": 4,
 "nbformat_minor": 2
}
