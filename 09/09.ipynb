{
 "cells": [
  {
   "cell_type": "code",
   "execution_count": 1,
   "metadata": {},
   "outputs": [],
   "source": [
    "# Imports & read file\n",
    "import time\n",
    "\n",
    "def read_file(filename):\n",
    "    with open(filename) as infile:\n",
    "        return {(x, y): int(i) for y, line in enumerate(infile.readlines()) for x, i in enumerate(line.strip())}\n",
    "    return None"
   ]
  },
  {
   "cell_type": "code",
   "execution_count": 2,
   "metadata": {},
   "outputs": [],
   "source": [
    "# Part One\n",
    "def sum_risk_levels(heightmap):\n",
    "    risk = 0\n",
    "    while heightmap:\n",
    "        lowest = min(heightmap, key=heightmap.get)\n",
    "        risk += 1 + heightmap[lowest]\n",
    "        queue = {lowest}\n",
    "        while queue:\n",
    "            x, y = queue.pop()\n",
    "            height = heightmap.pop((x,y))\n",
    "            for dx, dy in [(0, -1), (1, 0), (0, 1), (-1, 0)]:\n",
    "                if (x+dx, y+dy) in heightmap and heightmap[(x+dx, y+dy)] >= height:\n",
    "                    queue.add((x+dx, y+dy))\n",
    "    return risk"
   ]
  },
  {
   "cell_type": "code",
   "execution_count": 3,
   "metadata": {},
   "outputs": [
    {
     "name": "stdout",
     "output_type": "stream",
     "text": [
      "True\n"
     ]
    },
    {
     "data": {
      "text/plain": [
       "0.0"
      ]
     },
     "execution_count": 3,
     "metadata": {},
     "output_type": "execute_result"
    }
   ],
   "source": [
    "# Test Part One\n",
    "start = time.time()\n",
    "print(sum_risk_levels(read_file(\"test.txt\")) == 15)\n",
    "time.time() - start"
   ]
  },
  {
   "cell_type": "code",
   "execution_count": 4,
   "metadata": {},
   "outputs": [
    {
     "name": "stdout",
     "output_type": "stream",
     "text": [
      "439\n"
     ]
    },
    {
     "data": {
      "text/plain": [
       "0.06901359558105469"
      ]
     },
     "execution_count": 4,
     "metadata": {},
     "output_type": "execute_result"
    }
   ],
   "source": [
    "# Solve Part One\n",
    "start = time.time()\n",
    "print(sum_risk_levels(read_file(\"input.txt\")))\n",
    "time.time() - start"
   ]
  },
  {
   "cell_type": "code",
   "execution_count": 5,
   "metadata": {},
   "outputs": [],
   "source": [
    "# Part Two\n",
    "def find_basins(heightmap):\n",
    "    basins = []\n",
    "    coords = {c for c in heightmap if not heightmap[c] == 9}\n",
    "    while coords:\n",
    "        basin = 0\n",
    "        queue = {next(iter(coords))}\n",
    "        while queue:\n",
    "            x,y = queue.pop()\n",
    "            coords.remove((x,y))\n",
    "            basin += 1\n",
    "            for dx, dy in [(0, -1), (1, 0), (0, 1), (-1, 0)]:\n",
    "                if (x+dx, y+dy) in coords:\n",
    "                    queue.add((x+dx, y+dy))\n",
    "        basins.append(basin)\n",
    "    return basins\n",
    "\n",
    "def multiply_largest_basins(heightmap):\n",
    "    basins = sorted(find_basins(heightmap), reverse=True)\n",
    "    return basins[0] * basins[1] * basins[2]"
   ]
  },
  {
   "cell_type": "code",
   "execution_count": 6,
   "metadata": {},
   "outputs": [
    {
     "name": "stdout",
     "output_type": "stream",
     "text": [
      "True\n"
     ]
    },
    {
     "data": {
      "text/plain": [
       "0.0010097026824951172"
      ]
     },
     "execution_count": 6,
     "metadata": {},
     "output_type": "execute_result"
    }
   ],
   "source": [
    "# Test Part Two\n",
    "start = time.time()\n",
    "print(multiply_largest_basins(read_file(\"test.txt\")) == 1134)\n",
    "time.time() - start"
   ]
  },
  {
   "cell_type": "code",
   "execution_count": 7,
   "metadata": {
    "scrolled": true
   },
   "outputs": [
    {
     "name": "stdout",
     "output_type": "stream",
     "text": [
      "900900\n"
     ]
    },
    {
     "data": {
      "text/plain": [
       "0.015999794006347656"
      ]
     },
     "execution_count": 7,
     "metadata": {},
     "output_type": "execute_result"
    }
   ],
   "source": [
    "# Solve Part Two\n",
    "start = time.time()\n",
    "print(multiply_largest_basins(read_file(\"input.txt\")))\n",
    "time.time() - start"
   ]
  }
 ],
 "metadata": {
  "kernelspec": {
   "display_name": "Python 3",
   "language": "python",
   "name": "python3"
  },
  "language_info": {
   "codemirror_mode": {
    "name": "ipython",
    "version": 3
   },
   "file_extension": ".py",
   "mimetype": "text/x-python",
   "name": "python",
   "nbconvert_exporter": "python",
   "pygments_lexer": "ipython3",
   "version": "3.8.8"
  }
 },
 "nbformat": 4,
 "nbformat_minor": 2
}
