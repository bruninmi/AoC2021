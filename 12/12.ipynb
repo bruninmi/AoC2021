{
 "cells": [
  {
   "cell_type": "code",
   "execution_count": 1,
   "metadata": {},
   "outputs": [],
   "source": [
    "# Imports & read file\n",
    "import time\n",
    "\n",
    "def read_file(filename):\n",
    "    with open(filename) as infile:\n",
    "        return [line.strip().split('-') for line in infile.readlines()]\n",
    "    return None"
   ]
  },
  {
   "cell_type": "code",
   "execution_count": 2,
   "metadata": {
    "scrolled": false
   },
   "outputs": [],
   "source": [
    "# Part One\n",
    "def construct_maze(connections):\n",
    "    maze = {}\n",
    "    for a, b in connections:\n",
    "        maze[a] = maze.get(a, set())\n",
    "        if not b == 'start':\n",
    "            maze[a].add(b)\n",
    "        maze[b] = maze.get(b, set())\n",
    "        if not a == 'start':\n",
    "            maze[b].add(a)\n",
    "    return maze\n",
    "\n",
    "def count_all_paths(maze, start='start', visited=None):\n",
    "    if start == 'end':\n",
    "        return 1\n",
    "    if not visited:\n",
    "        visited = []\n",
    "    paths = 0\n",
    "    visited.append(start)\n",
    "    for option in maze[start]:\n",
    "        if option[0].islower() and option in visited:\n",
    "            continue\n",
    "        paths += count_all_paths(maze, option, visited)\n",
    "    visited.pop()\n",
    "    return paths\n",
    "\n",
    "def solve_part_one(file):\n",
    "    return count_all_paths(construct_maze(read_file(file)))"
   ]
  },
  {
   "cell_type": "code",
   "execution_count": 3,
   "metadata": {},
   "outputs": [
    {
     "name": "stdout",
     "output_type": "stream",
     "text": [
      "True\n",
      "True\n",
      "True\n"
     ]
    },
    {
     "data": {
      "text/plain": [
       "0.0"
      ]
     },
     "execution_count": 3,
     "metadata": {},
     "output_type": "execute_result"
    }
   ],
   "source": [
    "# Test Part One\n",
    "start = time.time()\n",
    "for f, s in enumerate([10, 19, 226], 1):\n",
    "    print(solve_part_one(f\"test{f:02}.txt\") == s)\n",
    "time.time() - start"
   ]
  },
  {
   "cell_type": "code",
   "execution_count": 4,
   "metadata": {},
   "outputs": [
    {
     "name": "stdout",
     "output_type": "stream",
     "text": [
      "3802\n"
     ]
    },
    {
     "data": {
      "text/plain": [
       "0.0"
      ]
     },
     "execution_count": 4,
     "metadata": {},
     "output_type": "execute_result"
    }
   ],
   "source": [
    "# Solve Part One\n",
    "start = time.time()\n",
    "print(solve_part_one(\"input.txt\"))\n",
    "time.time() - start"
   ]
  },
  {
   "cell_type": "code",
   "execution_count": 5,
   "metadata": {},
   "outputs": [],
   "source": [
    "# Part Two\n",
    "def count_all_paths_extended(maze, start='start', visited=None, twice=False):\n",
    "    if start == 'end':\n",
    "        return 1\n",
    "    if not visited:\n",
    "        visited = []\n",
    "    paths = 0\n",
    "    visited.append(start)\n",
    "    for option in maze[start]:\n",
    "        if option[0].islower() and option in visited and twice:\n",
    "            continue\n",
    "        paths += count_all_paths_extended(maze, option, visited, twice or option[0].islower() and option in visited)\n",
    "    visited.pop()\n",
    "    return paths\n",
    "\n",
    "def solve_part_two(file):\n",
    "    return count_all_paths_extended(construct_maze(read_file(file)))"
   ]
  },
  {
   "cell_type": "code",
   "execution_count": 6,
   "metadata": {},
   "outputs": [
    {
     "name": "stdout",
     "output_type": "stream",
     "text": [
      "True\n",
      "True\n",
      "True\n"
     ]
    },
    {
     "data": {
      "text/plain": [
       "0.0312349796295166"
      ]
     },
     "execution_count": 6,
     "metadata": {},
     "output_type": "execute_result"
    }
   ],
   "source": [
    "# Test Part Two\n",
    "start = time.time()\n",
    "for f, s in enumerate([36, 103, 3509], 1):\n",
    "    print(solve_part_two(f\"test{f:02}.txt\") == s)\n",
    "time.time() - start"
   ]
  },
  {
   "cell_type": "code",
   "execution_count": 7,
   "metadata": {
    "scrolled": true
   },
   "outputs": [
    {
     "name": "stdout",
     "output_type": "stream",
     "text": [
      "99448\n"
     ]
    },
    {
     "data": {
      "text/plain": [
       "0.3385190963745117"
      ]
     },
     "execution_count": 7,
     "metadata": {},
     "output_type": "execute_result"
    }
   ],
   "source": [
    "# Solve Part Two\n",
    "start = time.time()\n",
    "print(solve_part_two(\"input.txt\"))\n",
    "time.time() - start"
   ]
  }
 ],
 "metadata": {
  "kernelspec": {
   "display_name": "Python 3",
   "language": "python",
   "name": "python3"
  },
  "language_info": {
   "codemirror_mode": {
    "name": "ipython",
    "version": 3
   },
   "file_extension": ".py",
   "mimetype": "text/x-python",
   "name": "python",
   "nbconvert_exporter": "python",
   "pygments_lexer": "ipython3",
   "version": "3.8.8"
  }
 },
 "nbformat": 4,
 "nbformat_minor": 2
}
