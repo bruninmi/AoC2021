{
 "cells": [
  {
   "cell_type": "code",
   "execution_count": 1,
   "metadata": {},
   "outputs": [],
   "source": [
    "# Imports & read file\n",
    "import time\n",
    "\n",
    "def read_file(filename):\n",
    "    with open(filename) as infile:\n",
    "        return [line.strip().split(' | ') for line in infile.readlines()]\n",
    "    return None"
   ]
  },
  {
   "cell_type": "code",
   "execution_count": 2,
   "metadata": {},
   "outputs": [],
   "source": [
    "# Part One\n",
    "def count_simple_outputs(displays):\n",
    "    counter = 0\n",
    "    for display in displays:\n",
    "        for digit in display[1].split():\n",
    "            if len(digit) in [2, 3, 4, 7]:\n",
    "                counter += 1\n",
    "    return counter"
   ]
  },
  {
   "cell_type": "code",
   "execution_count": 3,
   "metadata": {},
   "outputs": [
    {
     "name": "stdout",
     "output_type": "stream",
     "text": [
      "True\n"
     ]
    },
    {
     "data": {
      "text/plain": [
       "0.0"
      ]
     },
     "execution_count": 3,
     "metadata": {},
     "output_type": "execute_result"
    }
   ],
   "source": [
    "# Test Part One\n",
    "start = time.time()\n",
    "print(count_simple_outputs(read_file(\"test.txt\")) == 26)\n",
    "time.time() - start"
   ]
  },
  {
   "cell_type": "code",
   "execution_count": 4,
   "metadata": {},
   "outputs": [
    {
     "name": "stdout",
     "output_type": "stream",
     "text": [
      "355\n"
     ]
    },
    {
     "data": {
      "text/plain": [
       "0.0"
      ]
     },
     "execution_count": 4,
     "metadata": {},
     "output_type": "execute_result"
    }
   ],
   "source": [
    "# Solve Part One\n",
    "start = time.time()\n",
    "print(count_simple_outputs(read_file(\"input.txt\")))\n",
    "time.time() - start"
   ]
  },
  {
   "cell_type": "code",
   "execution_count": 5,
   "metadata": {},
   "outputs": [],
   "source": [
    "# Part Two\n",
    "def missing(signal):\n",
    "    return [l for l in 'abcdefg' if l not in signal]\n",
    "\n",
    "def solve_display(display):\n",
    "    signals = sorted((\"\".join(sorted(signal)) for signal in display[0].split()), key=len)\n",
    "    values = [-1] * 10\n",
    "    values[0] = '1'\n",
    "    values[1] = '7'\n",
    "    values[2] = '4'\n",
    "    values[9] = '8'\n",
    "    for i in [6, 7, 8]:\n",
    "        miss = missing(signals[i])[0]\n",
    "        if miss in signals[0]:\n",
    "            values[i] = '6'\n",
    "            top_right = miss\n",
    "            bot_right = signals[0][1] if signals[0][0] == miss else signals[0][0]\n",
    "        elif miss in signals[2]:\n",
    "            values[i] = '0'\n",
    "        else:\n",
    "            values[i] = '9'\n",
    "    for i in [3, 4, 5]:\n",
    "        miss = missing(signals[i])\n",
    "        if top_right in miss:\n",
    "            values[i] = '5'\n",
    "        elif bot_right in miss:\n",
    "            values[i] = '2'\n",
    "        else:\n",
    "            values[i] = '3'\n",
    "    reader = dict(zip(signals, values))\n",
    "    return int(\"\".join(reader[\"\".join(sorted(signal))] for signal in display[1].split()))\n",
    "\n",
    "def sum_outputs(displays):\n",
    "    return sum(solve_display(display) for display in displays)"
   ]
  },
  {
   "cell_type": "code",
   "execution_count": 6,
   "metadata": {},
   "outputs": [
    {
     "name": "stdout",
     "output_type": "stream",
     "text": [
      "True\n"
     ]
    },
    {
     "data": {
      "text/plain": [
       "0.0"
      ]
     },
     "execution_count": 6,
     "metadata": {},
     "output_type": "execute_result"
    }
   ],
   "source": [
    "# Test Part Two\n",
    "start = time.time()\n",
    "print(sum_outputs(read_file(\"test.txt\")) == 61229)\n",
    "time.time() - start"
   ]
  },
  {
   "cell_type": "code",
   "execution_count": 7,
   "metadata": {
    "scrolled": true
   },
   "outputs": [
    {
     "name": "stdout",
     "output_type": "stream",
     "text": [
      "983030\n"
     ]
    },
    {
     "data": {
      "text/plain": [
       "0.015625476837158203"
      ]
     },
     "execution_count": 7,
     "metadata": {},
     "output_type": "execute_result"
    }
   ],
   "source": [
    "# Solve Part Two\n",
    "start = time.time()\n",
    "print(sum_outputs(read_file(\"input.txt\")))\n",
    "time.time() - start"
   ]
  }
 ],
 "metadata": {
  "kernelspec": {
   "display_name": "Python 3",
   "language": "python",
   "name": "python3"
  },
  "language_info": {
   "codemirror_mode": {
    "name": "ipython",
    "version": 3
   },
   "file_extension": ".py",
   "mimetype": "text/x-python",
   "name": "python",
   "nbconvert_exporter": "python",
   "pygments_lexer": "ipython3",
   "version": "3.7.6"
  }
 },
 "nbformat": 4,
 "nbformat_minor": 2
}
