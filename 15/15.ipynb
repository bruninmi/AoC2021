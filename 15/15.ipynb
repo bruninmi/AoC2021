{
 "cells": [
  {
   "cell_type": "code",
   "execution_count": 1,
   "metadata": {},
   "outputs": [],
   "source": [
    "# Imports & read file\n",
    "import time\n",
    "import heapq\n",
    "import numpy as np\n",
    "\n",
    "def read_file(filename):\n",
    "    with open(filename) as infile:\n",
    "        return np.array([[int(i) for i in line.strip()] for line in infile.readlines()])\n",
    "    return None"
   ]
  },
  {
   "cell_type": "code",
   "execution_count": 2,
   "metadata": {
    "scrolled": false
   },
   "outputs": [],
   "source": [
    "# Part One\n",
    "def shortest_path(maze):\n",
    "    target = len(maze) - 1\n",
    "    heap = [(0, (0,0))]\n",
    "    visited = set()\n",
    "    while heap:\n",
    "        c, (x,y) = heapq.heappop(heap)\n",
    "        if x == y == target:\n",
    "            return c\n",
    "        \n",
    "        moves = []\n",
    "        if x < target:\n",
    "            moves.append((x+1, y))\n",
    "        if y < target:\n",
    "            moves.append((x, y+1))\n",
    "        if x > 0:\n",
    "            moves.append((x-1, y))\n",
    "        if y > 0:\n",
    "            moves.append((x, y-1))\n",
    "            \n",
    "        for (nx,ny) in moves:\n",
    "            if (nx,ny) in visited:\n",
    "                continue\n",
    "            visited.add((nx,ny))\n",
    "            m = c + maze[ny][nx]\n",
    "            heapq.heappush(heap, (m, (nx, ny)))\n",
    "    return heap, visited\n",
    "\n",
    "def solve_part_one(file):\n",
    "    return shortest_path(read_file(file))"
   ]
  },
  {
   "cell_type": "code",
   "execution_count": 3,
   "metadata": {},
   "outputs": [
    {
     "name": "stdout",
     "output_type": "stream",
     "text": [
      "True\n"
     ]
    },
    {
     "data": {
      "text/plain": [
       "0.0"
      ]
     },
     "execution_count": 3,
     "metadata": {},
     "output_type": "execute_result"
    }
   ],
   "source": [
    "# Test Part One\n",
    "start = time.time()\n",
    "print(solve_part_one(\"test.txt\") == 40)\n",
    "time.time() - start"
   ]
  },
  {
   "cell_type": "code",
   "execution_count": 4,
   "metadata": {},
   "outputs": [
    {
     "name": "stdout",
     "output_type": "stream",
     "text": [
      "373\n"
     ]
    },
    {
     "data": {
      "text/plain": [
       "0.03335857391357422"
      ]
     },
     "execution_count": 4,
     "metadata": {},
     "output_type": "execute_result"
    }
   ],
   "source": [
    "# Solve Part One\n",
    "start = time.time()\n",
    "print(solve_part_one(\"input.txt\"))\n",
    "time.time() - start"
   ]
  },
  {
   "cell_type": "code",
   "execution_count": 5,
   "metadata": {},
   "outputs": [],
   "source": [
    "# Part Two\n",
    "def solve_part_two(file):\n",
    "    maze = read_file(file)\n",
    "    repeats = np.zeros_like(maze)\n",
    "    repeats = np.concatenate(tuple(repeats + i for i in range(5)), axis=0)\n",
    "    repeats = np.concatenate(tuple(repeats + i for i in range(5)), axis=1)\n",
    "    maze = 1 + (np.tile(maze, (5,5)) + repeats - 1) % 9\n",
    "    return shortest_path(maze)"
   ]
  },
  {
   "cell_type": "code",
   "execution_count": 6,
   "metadata": {},
   "outputs": [
    {
     "name": "stdout",
     "output_type": "stream",
     "text": [
      "True\n"
     ]
    },
    {
     "data": {
      "text/plain": [
       "0.0"
      ]
     },
     "execution_count": 6,
     "metadata": {},
     "output_type": "execute_result"
    }
   ],
   "source": [
    "# Test Part Two\n",
    "start = time.time()\n",
    "print(solve_part_two(\"test.txt\") == 315)\n",
    "time.time() - start"
   ]
  },
  {
   "cell_type": "code",
   "execution_count": 7,
   "metadata": {
    "scrolled": true
   },
   "outputs": [
    {
     "name": "stdout",
     "output_type": "stream",
     "text": [
      "2868\n"
     ]
    },
    {
     "data": {
      "text/plain": [
       "0.8335330486297607"
      ]
     },
     "execution_count": 7,
     "metadata": {},
     "output_type": "execute_result"
    }
   ],
   "source": [
    "# Solve Part Two\n",
    "start = time.time()\n",
    "print(solve_part_two(\"input.txt\"))\n",
    "time.time() - start"
   ]
  }
 ],
 "metadata": {
  "kernelspec": {
   "display_name": "Python 3",
   "language": "python",
   "name": "python3"
  },
  "language_info": {
   "codemirror_mode": {
    "name": "ipython",
    "version": 3
   },
   "file_extension": ".py",
   "mimetype": "text/x-python",
   "name": "python",
   "nbconvert_exporter": "python",
   "pygments_lexer": "ipython3",
   "version": "3.7.6"
  }
 },
 "nbformat": 4,
 "nbformat_minor": 2
}
