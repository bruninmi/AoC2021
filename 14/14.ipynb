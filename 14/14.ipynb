{
 "cells": [
  {
   "cell_type": "code",
   "execution_count": 1,
   "metadata": {},
   "outputs": [],
   "source": [
    "# Imports & read file\n",
    "import time\n",
    "import itertools as it\n",
    "\n",
    "def read_file(filename):\n",
    "    with open(filename) as infile:\n",
    "        problem = [line.strip() for line in infile.readlines()]\n",
    "        template = problem[0]\n",
    "        rules = dict(line.split(\" -> \") for line in problem[2:])\n",
    "        return template, rules\n",
    "    return None"
   ]
  },
  {
   "cell_type": "code",
   "execution_count": 2,
   "metadata": {
    "scrolled": false
   },
   "outputs": [],
   "source": [
    "# Part One\n",
    "def step(polymer, rules, n=10):\n",
    "    for rule in rules:\n",
    "        a,b = rule\n",
    "        c = rules[rule]\n",
    "        rules[rule] = (a+c,c+b)\n",
    "    pairs = {}\n",
    "    for i in range(len(polymer)-1):\n",
    "        pair = polymer[i:i+2]\n",
    "        pairs[pair] = pairs.get(pair, 0) + 1\n",
    "    for _ in range(n):\n",
    "        newpairs = {}\n",
    "        for pair, count in pairs.items():\n",
    "            for result in rules[pair]:\n",
    "                newpairs[result] = newpairs.get(result, 0) + count\n",
    "        pairs = newpairs\n",
    "    counter = {}\n",
    "    for pair, count in pairs.items():\n",
    "        for e in pair:\n",
    "            counter[e] = counter.get(e, 0) + count\n",
    "    counter[polymer[0]] += 1\n",
    "    counter[polymer[-1]] += 1\n",
    "    return {c: v // 2 for c,v in counter.items()}\n",
    "\n",
    "def solve_part_one(file):\n",
    "    template, rules = read_file(file)\n",
    "    counter = step(template, rules)\n",
    "    return max(counter.values()) - min(counter.values())"
   ]
  },
  {
   "cell_type": "code",
   "execution_count": 3,
   "metadata": {},
   "outputs": [
    {
     "name": "stdout",
     "output_type": "stream",
     "text": [
      "True\n"
     ]
    },
    {
     "data": {
      "text/plain": [
       "0.0"
      ]
     },
     "execution_count": 3,
     "metadata": {},
     "output_type": "execute_result"
    }
   ],
   "source": [
    "# Test Part One\n",
    "start = time.time()\n",
    "print(solve_part_one(\"test.txt\") == 1588)\n",
    "time.time() - start"
   ]
  },
  {
   "cell_type": "code",
   "execution_count": 4,
   "metadata": {},
   "outputs": [
    {
     "name": "stdout",
     "output_type": "stream",
     "text": [
      "3247\n"
     ]
    },
    {
     "data": {
      "text/plain": [
       "0.0"
      ]
     },
     "execution_count": 4,
     "metadata": {},
     "output_type": "execute_result"
    }
   ],
   "source": [
    "# Solve Part One\n",
    "start = time.time()\n",
    "print(solve_part_one(\"input.txt\"))\n",
    "time.time() - start"
   ]
  }
 ],
 "metadata": {
  "kernelspec": {
   "display_name": "Python 3",
   "language": "python",
   "name": "python3"
  },
  "language_info": {
   "codemirror_mode": {
    "name": "ipython",
    "version": 3
   },
   "file_extension": ".py",
   "mimetype": "text/x-python",
   "name": "python",
   "nbconvert_exporter": "python",
   "pygments_lexer": "ipython3",
   "version": "3.7.6"
  }
 },
 "nbformat": 4,
 "nbformat_minor": 2
}
