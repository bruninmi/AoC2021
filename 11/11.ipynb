{
 "cells": [
  {
   "cell_type": "code",
   "execution_count": 1,
   "metadata": {},
   "outputs": [],
   "source": [
    "# Imports & read file\n",
    "import time\n",
    "import numpy as np\n",
    "\n",
    "def read_file(filename):\n",
    "    with open(filename) as infile:\n",
    "        return np.array([[int(i) for i in line.strip()] for line in infile.readlines()])\n",
    "    return None"
   ]
  },
  {
   "cell_type": "code",
   "execution_count": 2,
   "metadata": {
    "scrolled": false
   },
   "outputs": [],
   "source": [
    "# Part One\n",
    "def simulate_octopuses(octopuses, steps=100):\n",
    "    flashes = 0\n",
    "    for _ in range(steps):\n",
    "        octopuses += 1\n",
    "        todo = set(zip(*((octopuses == 10).nonzero())))\n",
    "        while todo:\n",
    "            x,y = todo.pop()\n",
    "            octopuses[max(0,x-1):x+2,max(0,y-1):y+2] += 1\n",
    "            todo.update(set(zip(*((octopuses == 10).nonzero()))))\n",
    "        flashes += (octopuses >= 10).sum()\n",
    "        octopuses = np.where(octopuses >= 10, 0, octopuses)\n",
    "    return flashes"
   ]
  },
  {
   "cell_type": "code",
   "execution_count": 3,
   "metadata": {},
   "outputs": [
    {
     "name": "stdout",
     "output_type": "stream",
     "text": [
      "True\n"
     ]
    },
    {
     "data": {
      "text/plain": [
       "0.015606880187988281"
      ]
     },
     "execution_count": 3,
     "metadata": {},
     "output_type": "execute_result"
    }
   ],
   "source": [
    "# Test Part One\n",
    "start = time.time()\n",
    "print(simulate_octopuses(read_file(\"test.txt\")) == 1656)\n",
    "time.time() - start"
   ]
  },
  {
   "cell_type": "code",
   "execution_count": 4,
   "metadata": {},
   "outputs": [
    {
     "name": "stdout",
     "output_type": "stream",
     "text": [
      "1665\n"
     ]
    },
    {
     "data": {
      "text/plain": [
       "0.015622615814208984"
      ]
     },
     "execution_count": 4,
     "metadata": {},
     "output_type": "execute_result"
    }
   ],
   "source": [
    "# Solve Part One\n",
    "start = time.time()\n",
    "print(simulate_octopuses(read_file(\"input.txt\")))\n",
    "time.time() - start"
   ]
  }
 ],
 "metadata": {
  "kernelspec": {
   "display_name": "Python 3",
   "language": "python",
   "name": "python3"
  },
  "language_info": {
   "codemirror_mode": {
    "name": "ipython",
    "version": 3
   },
   "file_extension": ".py",
   "mimetype": "text/x-python",
   "name": "python",
   "nbconvert_exporter": "python",
   "pygments_lexer": "ipython3",
   "version": "3.8.8"
  }
 },
 "nbformat": 4,
 "nbformat_minor": 2
}
